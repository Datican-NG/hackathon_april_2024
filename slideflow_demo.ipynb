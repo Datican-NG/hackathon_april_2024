{
 "cells": [
  {
   "cell_type": "markdown",
   "metadata": {},
   "source": [
    "# Install & Import"
   ]
  },
  {
   "cell_type": "markdown",
   "metadata": {},
   "source": [
    "The following instructions assume you have completed the setup (Steps I - IV and VI [here](https://github.com/Datican-NG/hpc-docs/blob/main/slurm.md)).\n",
    "1. In a terminal window on `randi`, execute the following commands to create and activate the Slideflow Conda environment:\n",
    "\n",
    "   ```bash\n",
    "   conda create -y --name sflow python=3.9\n",
    "   conda activate sflow\n",
    "   pip install slideflow[torch] cucim cupy-cuda11x ipykernel \n",
    "   ```\n",
    "\n",
    "   Note: You only need to create the environment once. For future use, simply activate it with `conda activate slideflow`.\n",
    "\n",
    "2. Check if you are already on a compute node. The green or blue box in the lower left hand corner in VSCode shows your `HOSTNAME` (i.e., the name of the machine you are on). It should be `cri22cnXXX` or `cri22inXXX`. If it has a \"cn\" in it, it is a compute node; if it has an \"in\" in it, it is the head node. You need to run this notebook on a compute node because it requires a GPU.\n",
    "\n",
    "3. If you are not on a compute node, follow these instructions to start a VSCode session on a compute node:\n",
    "   \n",
    "   a. In Command Prompt (Windows) or Terminal (Mac/Linux) on your local machine, SSH into the cluster login node: `ssh randi`\n",
    "\n",
    "   b. Request a compute node:\n",
    "     ```bash\n",
    "     srun -p gpuq --gres=gpu:1 -t 640:00 --cpus-per-task 4 --pty /bin/bash\n",
    "     ```\n",
    "     Your prompt will change to `USERNAME@hostname` upon success.\n",
    "\n",
    "     c. In VSCode, click the remote-ssh box (green or blue box in the lower left corner) and select \"Connect to Host\". Enter `HOSTNAME`, replacing `HOSTNAME` with the value from step 2.\n",
    "     \n",
    "     d. Navigate back to the notebook and open it.\n",
    "\n",
    "4. In the top right corner of this notebook, select \"Select Kernel -> slideflow\"."
   ]
  },
  {
   "cell_type": "code",
   "execution_count": null,
   "metadata": {
    "colab": {
     "base_uri": "https://localhost:8080/",
     "height": 133
    },
    "id": "KvjsOmB5Bl8I",
    "outputId": "ed408cf6-cd11-4da3-a1e1-37769708ce6d"
   },
   "outputs": [],
   "source": [
    "# Import slideflow and confirm the version.\n",
    "#from PIL import Image\n",
    "import slideflow as sf\n",
    "import os\n",
    "sf.about()"
   ]
  },
  {
   "cell_type": "markdown",
   "metadata": {},
   "source": [
    "# Create a Project"
   ]
  },
  {
   "cell_type": "markdown",
   "metadata": {},
   "source": [
    "First, we'll start by creating a project. We'll need a path to where the whole-slide images (WSI) are stored, and a clinical annotations file that contains our patient-level outcomes, in CSV format. See [Setting up a Project](https://slideflow.dev/project_setup/) for more information."
   ]
  },
  {
   "cell_type": "code",
   "execution_count": null,
   "metadata": {
    "colab": {
     "base_uri": "https://localhost:8080/",
     "height": 541
    },
    "id": "p1jFZabMBrIh",
    "outputId": "c863276b-a33c-49e4-be5e-d3f1ce252f4f"
   },
   "outputs": [],
   "source": [
    "# Create the project.\n",
    "sf.create_project(\n",
    "    root=f'/gpfs/data/datican-lab/workspaces/{os.environ[\"USER\"]}/slideflow_v1',\n",
    "    slides='/gpfs/data/datican-lab/slides/images/',\n",
    "    annotations='/gpfs/data/datican-lab/slides/anns/HNSC annotations.csv'\n",
    ")"
   ]
  },
  {
   "cell_type": "code",
   "execution_count": null,
   "metadata": {
    "id": "JK3VDSwYCJ4c"
   },
   "outputs": [],
   "source": [
    "# Load the created project.\n",
    "project = sf.load_project(f'/gpfs/data/datican-lab/workspaces/{os.environ[\"USER\"]}/slideflow_v1')"
   ]
  },
  {
   "cell_type": "markdown",
   "metadata": {},
   "source": [
    "# Prepare a Dataset"
   ]
  },
  {
   "cell_type": "markdown",
   "metadata": {},
   "source": [
    "Next, we'll want to prepare a Dataset, a collection of whole-slide images and associated tiles extracted from these WSIs. For this experiment, we'll prepare a dataset of 299 x 299 pixel image tiles, with an optical magnification of 302 x 302 microns (1 micron-per-pixel, equivalent to 10X magnification).\n",
    "\n",
    "See [Datasets](https://slideflow.dev/datasets_and_val/) for more information on dataset handling."
   ]
  },
  {
   "cell_type": "code",
   "execution_count": null,
   "metadata": {
    "colab": {
     "base_uri": "https://localhost:8080/",
     "height": 17,
     "referenced_widgets": [
      "d12d77623064461d8e6ea1923d7c7ff4",
      "00dcdbc282f94e5499d1b8328aa6f2e4"
     ]
    },
    "id": "WUXI6bGnCDRO",
    "outputId": "ad79fb3a-b378-4a1c-8c7d-de84aefca688"
   },
   "outputs": [],
   "source": [
    "# Prepare a dataset of slides, defining\n",
    "# the expected image tile size in magnification (micron, tile_um)\n",
    "# and resolution (pixels, tile_px)\n",
    "dataset = project.dataset(tile_px=299, tile_um=302)"
   ]
  },
  {
   "cell_type": "markdown",
   "metadata": {},
   "source": [
    "Let's confirm everything is working so far by retrieving the first slide in our dataset and looking at the thumbnail."
   ]
  },
  {
   "cell_type": "code",
   "execution_count": null,
   "metadata": {
    "colab": {
     "base_uri": "https://localhost:8080/",
     "height": 802
    },
    "id": "muX1G3yl61xX",
    "outputId": "0f08541d-e3be-428e-ab8d-5faf0cd5bb2b"
   },
   "outputs": [],
   "source": [
    "# Get a list of all downloaded slides, and show a thumbnail\n",
    "# of the first slide.\n",
    "slide_path = dataset.slide_paths()[0]\n",
    "wsi = sf.WSI(slide_path, tile_px=299, tile_um=302)\n",
    "wsi.thumb()"
   ]
  },
  {
   "cell_type": "markdown",
   "metadata": {},
   "source": [
    "We'll want to section this large whole-slide image into smaller tiles, for downstream model training. Let's preview what tile extraction would look like at this magnification level."
   ]
  },
  {
   "cell_type": "code",
   "execution_count": null,
   "metadata": {
    "colab": {
     "base_uri": "https://localhost:8080/",
     "height": 818,
     "referenced_widgets": [
      "c8b27f4d244d48c9b248bbbb13fd74a0",
      "74752b5dffe64423b09d54633c6b01d2"
     ]
    },
    "id": "4CEqcXwd7C3z",
    "outputId": "ebf0049d-748e-4f90-d604-4234ae76cff7"
   },
   "outputs": [],
   "source": [
    "# Show a preview of tile extraction for this whole-slide image.\n",
    "wsi.preview()"
   ]
  },
  {
   "cell_type": "markdown",
   "metadata": {},
   "source": [
    "Note that because we do not have pathologist-annotated Regions of Interest (ROIs), we are extracting tiles from the whole slide (excluding background). "
   ]
  },
  {
   "cell_type": "markdown",
   "metadata": {},
   "source": [
    "## Extract tiles"
   ]
  },
  {
   "cell_type": "markdown",
   "metadata": {},
   "source": [
    "Next, we'll want to extract tiles from our dataset, storing them in TFRecord format. We'll use the Otsu thresholding algorithm to remove background, and we'll save images in JPEG format for space efficiency. See [Slide Processing](https://slideflow.dev/slide_processing/) for more information on slide processing options and tile extraction.\n",
    "\n",
    "This step can take quite a bit of time, depending on your dataset size, storage speed, image format, and compute. As a rough guideline, expect that it will take 3-5 seconds per slide."
   ]
  },
  {
   "cell_type": "code",
   "execution_count": null,
   "metadata": {
    "colab": {
     "base_uri": "https://localhost:8080/",
     "height": 1000,
     "referenced_widgets": [
      "373abaad3a664374a74548e70f67ba39",
      "3922ca5fdf7442ed8799ea4a56388346",
      "0f9c2dcb0f6944fc8f035e7156e3e7d4",
      "b76954b2ae524bfba4f73a903c0bf183",
      "c5b328597e47437d85312d84321e97a2",
      "d1bdcf258d314a0c88d067b270597397",
      "1b8b3901bc31411a9e864432071ecbd6",
      "9b988c17f2de40e0bf29c69bb456dcb5"
     ]
    },
    "id": "Ab_QgvBOCMSj",
    "outputId": "844784c4-b5c4-4012-9cba-c0899b5215f0",
    "scrolled": true
   },
   "outputs": [],
   "source": [
    "# Extract image tiles from whole-slide images,\n",
    "# exporting image tiles into buffered TFRecord format.\n",
    "dataset.extract_tiles(qc='otsu', grayspace_fraction=1, img_format='jpg')"
   ]
  },
  {
   "cell_type": "markdown",
   "metadata": {},
   "source": [
    "After tiles have been extracted, be sure to check the [tile extraction PDF report](https://slideflow.dev/slide_processing/#extraction-reports), which can provide important insights into how this process went and if there are any issues. This step can help you identify whether different slide processing / filtering may be necessary.\n",
    "\n",
    "For this project, the PDF report will be in `project/tfrecords/299px_302um/tile_extraction_report*.pdf`. There will also be a spreadsheet (CSV) generated that logs the tile extraction settings used for each slide, located here at `project/tfrecords/299px_302um/extraction_report.csv`."
   ]
  },
  {
   "cell_type": "markdown",
   "metadata": {},
   "source": [
    "## Identifying and fixing issues"
   ]
  },
  {
   "cell_type": "markdown",
   "metadata": {},
   "source": [
    "As an example, the PDF report has identified a potential issue with the slide `TCGA-F7-8298-01Z-00-DX1.e9df5104-c9a0-43af-a2e8-86d3f4029e03`. Let's load up this specific slide, apply the slide processing we used during tile extraction, and see if we can identify the problem."
   ]
  },
  {
   "cell_type": "code",
   "execution_count": null,
   "metadata": {},
   "outputs": [],
   "source": [
    "# Find the path to the slide in question and load it.\n",
    "slide_path = dataset.find_slide(slide='TCGA-F7-8298-01Z-00-DX1.e9df5104-c9a0-43af-a2e8-86d3f4029e03')\n",
    "wsi = sf.WSI(slide_path, tile_px=299, tile_um=302)\n",
    "\n",
    "# Apply Otsu Thresholding.\n",
    "wsi.qc('otsu')\n",
    "\n",
    "# Preview tile extraction.\n",
    "wsi.preview(grayspace_fraction=1)"
   ]
  },
  {
   "cell_type": "markdown",
   "metadata": {},
   "source": [
    "Yes, there is a problem - there are no tiles extracted within the tissue, only within the pen marks. Why? Probably because the Otsu's thresholding algorithm got confused by the huge, bold pen marks and thought *that* was the foreground. We can confirm this by looking at the slide QC mask:"
   ]
  },
  {
   "cell_type": "code",
   "execution_count": null,
   "metadata": {},
   "outputs": [],
   "source": [
    "Image.fromarray(wsi.qc_mask)"
   ]
  },
  {
   "cell_type": "markdown",
   "metadata": {},
   "source": [
    "Indeed, the issue is that the algorithm identified the pen marks as foreground (black). So we need to try a different QC algorithm.\n",
    "\n",
    "One of the solutions we have identified to this problem is by performing Gaussian (blur) filtering, which can remove both blurry regions (like pen marks) as well as background. Let's see if that works in this case."
   ]
  },
  {
   "cell_type": "code",
   "execution_count": null,
   "metadata": {},
   "outputs": [],
   "source": [
    "# Import the slideflow QC submodule.\n",
    "from slideflow.slide import qc\n",
    "\n",
    "# Remove the prior QC\n",
    "wsi.remove_qc()\n",
    "\n",
    "# Apply Gaussian blur filtering to the slide\n",
    "wsi.qc(qc.GaussianV2())  # V2 is faster than the original implementation"
   ]
  },
  {
   "cell_type": "markdown",
   "metadata": {},
   "source": [
    "This looks promising; let's see what the tile extraction would look like."
   ]
  },
  {
   "cell_type": "code",
   "execution_count": null,
   "metadata": {},
   "outputs": [],
   "source": [
    "wsi.preview(grayspace_fraction=1)"
   ]
  },
  {
   "cell_type": "markdown",
   "metadata": {},
   "source": [
    "It's better, but not perfect. Some additional exploration might need to be done into other algorithms (or a combination of algorithms). Or, if a suitable fully automated algorithm cannot be found, a Region of Interest (ROI) can be drawn around the areas of tissue, excluding the pen marks. You can also leverage a DL segmentation model (like U-Net) to automatically draw ROIs. See [Tissue Segmentation](https://slideflow.dev/segmentation/) for more information.\n",
    "\n",
    "See [Masking & Filtering](https://slideflow.dev/slide_processing/#masking-filtering) for a more in-depth discussion of various automated slide filtering options, and [Regions of Interest](https://slideflow.dev/slide_processing/#regions-of-interest) for an overview of how ROIs can be generated and applied.\n",
    "\n",
    "Once the desired slide filtering / QC pipeline is idenfied, tiles can be re-extracted using this new strategy. For the purposes of this example, we'll continue onward using the flawed data."
   ]
  },
  {
   "cell_type": "markdown",
   "metadata": {},
   "source": [
    "## Inpsecting the dataset"
   ]
  },
  {
   "cell_type": "markdown",
   "metadata": {},
   "source": [
    "Let's take a look at the dataset summary to get an idea of how many patients, slides, and tiles we have in our dataset."
   ]
  },
  {
   "cell_type": "code",
   "execution_count": null,
   "metadata": {
    "colab": {
     "base_uri": "https://localhost:8080/"
    },
    "id": "JHszMtJ96OwA",
    "outputId": "69fdff93-0548-4d69-852c-41f56389bf73"
   },
   "outputs": [],
   "source": [
    "# Print a summary of the dataset,\n",
    "# showing how many slides are included\n",
    "# and how many tiles were extracted from slides.\n",
    "dataset.summary()"
   ]
  },
  {
   "cell_type": "markdown",
   "metadata": {},
   "source": [
    "So we have 869,047 tiles across 459 patients. This will be more than sufficient for training models."
   ]
  },
  {
   "cell_type": "markdown",
   "metadata": {},
   "source": [
    "# Train a tile-based model"
   ]
  },
  {
   "cell_type": "markdown",
   "metadata": {},
   "source": [
    "Next, for the purposes of this example, we'll train a simple tile-based model with the binary categorization task of predicting the presence of Human Papillomavirus (HPV). Each patient's HPV status is recoreded in our project annotations file, under the column `\"HPV_status\"`.\n",
    "\n",
    "First, we'll split our dataset into training (70%) and testing (30%). The training data will be further split into training and validation. See our [documentation](https://slideflow.dev/datasets_and_val/#training-validation-splitting) for more details and examples regarding dataset splitting.\n",
    "\n",
    "Of note - for this example, we will be training with simple dataset splits, balanced by the outcome of interest (HPV status). For simplicity, we are not using site-preserved splits, which are important when training on multi-institution data like TCGA to avoid being led astray by [confounding, site-related batch effects](https://www.nature.com/articles/s41467-021-24698-1). Site-preserved splitting requires installation of either [CPLEX or Pyomo/Bonmin](https://slideflow.dev/installation/#optional), and can be enabled with the argument `strategy='k-fold-preserved-site'`."
   ]
  },
  {
   "cell_type": "code",
   "execution_count": null,
   "metadata": {
    "colab": {
     "base_uri": "https://localhost:8080/",
     "height": 50
    },
    "id": "wQ9ntXb4D5Jm",
    "outputId": "ad3c63c0-d206-4976-f8d4-999139016802"
   },
   "outputs": [],
   "source": [
    "# Train models.\n",
    "\n",
    "# First, split the data into training (70%) / testing (30%).\n",
    "# Ensure equal balancing according to the outcome 'subtype'.\n",
    "train, test = dataset.split(val_fraction=0.3, labels='HPV_status')\n",
    "\n",
    "# Next, we'll reserve 10% of the training data for validation.\n",
    "train, val = train.split(val_fraction=0.1, labels='HPV_status')"
   ]
  },
  {
   "cell_type": "markdown",
   "metadata": {},
   "source": [
    "Now, we'll need to configure our model hyperparameters and begin training. We'll train a classic ResNet50 model. There are many tunable hyperparameters; see [Training](https://slideflow.dev/training/) for more information. Because each slide has an abundance of redundant morphologic information spread across the image tiles, we don't typically need to train for more than about 1 epoch."
   ]
  },
  {
   "cell_type": "code",
   "execution_count": null,
   "metadata": {
    "colab": {
     "base_uri": "https://localhost:8080/",
     "height": 1000,
     "referenced_widgets": [
      "d354bbbf64104bc99007d2e3ba5493fb",
      "3481841c98294e2e8c5bc04522568d5f",
      "21a6305c47c749e8b30fe20a6bf08b65",
      "aef81399904449d483fd0cbdb822fde8",
      "3b80fdb5bd514fb193406711563eee9b",
      "1b66c3edf7214c76be9c010e11c7c028"
     ]
    },
    "id": "ANIr8C8cFVzc",
    "outputId": "ccec3474-f7a8-4649-f903-71727fe1c373",
    "scrolled": true
   },
   "outputs": [],
   "source": [
    "# Train a tile-based model.\n",
    "\n",
    "# Configure the hyperparameters.\n",
    "hp = sf.ModelParams(\n",
    "    tile_px=299,      # Tile width, in pixels.\n",
    "    tile_um=302,      # Tile width, in microns (effective magnification).\n",
    "    augment='xyrjb',  # Augment with random flip/rotation, JPEG compression, and Guassian blur.\n",
    "    batch_size=128,   # Batch size of 128. Adjust/tune as needed.\n",
    "    model='resnet50', # Use the ResNet50 architecture.\n",
    "    epochs=1,         # Train for 1 epoch.\n",
    "    dropout=0.2,      # Dropout, p=0.2.\n",
    ")\n",
    "\n",
    "# Start training.\n",
    "project.train(\n",
    "    outcomes='HPV_status', # Ground-truth labels.\n",
    "    params=hp,             # Hyperparameters.\n",
    "    dataset=train,         # Training dataset.\n",
    "    val_dataset=val,       # Validation dataset.\n",
    "    validate_on_batch=256, # Run validation every 256 training steps.\n",
    "    validation_steps=32    # When validating, run 32 batches at a time.\n",
    "  )"
   ]
  },
  {
   "cell_type": "markdown",
   "metadata": {},
   "source": [
    "## Held-out testing"
   ]
  },
  {
   "cell_type": "markdown",
   "metadata": {},
   "source": [
    "At this point, we would continue experimenting with hyperparameter settings, architecture, slide processing methods, and magnification levels to get a better understanding of what the best settings are for this outcome of interest. Once all of these investigations are complete, we'll want to test the final model on our held-out test set. \n",
    "\n",
    "Trained models will be saved in the `models` folder within the main project directory. See [Evaluation](https://slideflow.dev/evaluation/) for more information on evaluating models."
   ]
  },
  {
   "cell_type": "code",
   "execution_count": null,
   "metadata": {
    "id": "Fr6_LXWCIxOU"
   },
   "outputs": [],
   "source": [
    "# Now, let's generate predictions\n",
    "saved_model = 'project/models/00000-HPV_status-HP0/HPV_status-HP0_epoch1.zip'\n",
    "project.evaluate(saved_model, 'HPV_status', dataset=test)"
   ]
  },
  {
   "cell_type": "markdown",
   "metadata": {},
   "source": [
    "Despite being trained on known flawed data with potential confounders (pen marks), our model has done well on the held out test set, with an Area Under Receiver Operator Curve (AUROC) of 0.83.\n",
    "\n",
    "With careful hyperparameter tuning, dataset preparation, and [uncertainty quantification](https://slideflow.dev/uq/), we have shown that it is possible to build models on this outcome reaching an AUROC of ~0.87 (see: [paper](https://bmcbioinformatics.biomedcentral.com/articles/10.1186/s12859-024-05758-x)). "
   ]
  },
  {
   "cell_type": "markdown",
   "metadata": {},
   "source": [
    "# Multiple-instance learning"
   ]
  },
  {
   "cell_type": "markdown",
   "metadata": {},
   "source": [
    "An alternative to tile-based models is [Multiple-Instance Learning (MIL)](https://slideflow.dev/mil/). With MIL, each tile is first converted into a feature vector, and feature vectors from all tiles in a slide are grouped together in a \"bag\". The MIL architecture reduces all the feature vectors from a slide into a single vector using attention weighting, and then generates a prediction from the reduced vector. The key difference with this approach, compared to a tile-based model, is that the MIL model \"sees\" all areas of a slide when making a prediction. In contrast, tile-based models make predictions on each image tile in isolation, and the final predictions are merged through simple average.\n",
    "\n",
    "The first step in training an MIL model is to convert tile images into feature vectors. There are many publicly available pathology-specific pretrained feature extractors. Slideflow supports four out of the box: [CTransPath](https://github.com/Xiyue-Wang/TransPath), [RetCCL](https://github.com/Xiyue-Wang/RetCCL), [HistoSSL](https://github.com/owkin/HistoSSLscaling), and [PLIP](https://github.com/PathologyFoundation/plip). However, you can also easily implement your own [custom feature extractor](https://slideflow.dev/custom_extractors/), if you have the weights to a pretrained model. You can also train your own using [Self-Supervised Learning](https://slideflow.dev/ssl/) (either SimCLRv2 or DINOv2).\n",
    "\n",
    "For this example, we will use the popular CTransPath model."
   ]
  },
  {
   "cell_type": "code",
   "execution_count": null,
   "metadata": {
    "id": "V-00fa7UHmtO"
   },
   "outputs": [],
   "source": [
    "# Train an MIL model.\n",
    "import slideflow.mil"
   ]
  },
  {
   "cell_type": "code",
   "execution_count": null,
   "metadata": {
    "colab": {
     "base_uri": "https://localhost:8080/",
     "height": 308,
     "referenced_widgets": [
      "94d6a91fdab3481bbe9be0b6d819a67f",
      "e0acdd90628b4200b00509d3e5394e90",
      "19319548024e43d99110bc9430eab608",
      "b5be9f9d250e4ef6ae3404be3c772cda",
      "547257029e884db080cc53dc83daafaa",
      "8edc29dcadc8422685101fa29e224a70",
      "7ba2bb481165447996d946dace078ad9",
      "73ba2e91e4e94d0fb08f9cb516f0f644",
      "d9dc6a79fc7047448bc5a9064f36f7ca",
      "a4d8fd9a18e94097864b0576429f92bc",
      "2b817e0ec49a46fe85df19c3021821fd",
      "d60f7119b0f24aeea1c67d7d6e913c18",
      "5be3961ea8ba495bb0fe14692d96b642"
     ]
    },
    "id": "6dIRs8jLCnfi",
    "outputId": "e5abf2e4-41eb-4419-e816-c01dc277a09e"
   },
   "outputs": [],
   "source": [
    "# Before training an MIL model, we need to convert images into feature vectors.\n",
    "# We'll use the pretrained CTransPath [1] pathology feature extractor.\n",
    "# 1) https://doi.org/10.1016/j.media.2022.102559\n",
    "ctranspath = sf.model.build_feature_extractor('ctranspath', tile_px=299)"
   ]
  },
  {
   "cell_type": "markdown",
   "metadata": {},
   "source": [
    "Now that we've built our feature extractor, we'll use it to convert all the images in our dataset into vectors. These will be saved in the `pt_files` folder within the main project directory."
   ]
  },
  {
   "cell_type": "code",
   "execution_count": null,
   "metadata": {},
   "outputs": [],
   "source": [
    "# Generate and save CTransPath features\n",
    "# for all images in the dataset.\n",
    "bags = project.generate_feature_bags(ctranspath, dataset=dataset)"
   ]
  },
  {
   "cell_type": "markdown",
   "metadata": {},
   "source": [
    "For this example, we'll train a simple attention-based MIL model. See [Multiple-Instance Learning](https://slideflow.dev/mil/) for a discussion of other available architectures and hyperparameters."
   ]
  },
  {
   "cell_type": "code",
   "execution_count": null,
   "metadata": {
    "id": "N_8lhq37iNNP"
   },
   "outputs": [],
   "source": [
    "# Prepare hyperparameters for MIL training.\n",
    "config = sf.mil.mil_config('attention_mil', lr=1e-4, fit_one_cycle=False, epochs=10)"
   ]
  },
  {
   "cell_type": "code",
   "execution_count": null,
   "metadata": {
    "id": "k--UX9T5iWEY",
    "scrolled": true
   },
   "outputs": [],
   "source": [
    "# Start MIL model training.\n",
    "project.train_mil(config, train, val, outcomes='HPV_status', bags=bags)"
   ]
  },
  {
   "cell_type": "code",
   "execution_count": null,
   "metadata": {
    "id": "0-x--wZCig2Z"
   },
   "outputs": [],
   "source": [
    "# Test performance on the held-out test set.\n",
    "saved_model = 'project/mil/00000-attention_mil-HPV_status'\n",
    "project.evaluate_mil(saved_model, 'HPV_status', dataset=test, bags=bags)"
   ]
  },
  {
   "cell_type": "markdown",
   "metadata": {},
   "source": [
    "As with the tile-based model, we're seeing overall good results, with an AUROC of 0.837 on the held-out test set. With careful hyperparameter tuning, feature extractor selection, and decisions regarding tile magnification and stain normalization, this can likely be improved."
   ]
  },
  {
   "cell_type": "markdown",
   "metadata": {},
   "source": [
    "# Post-Training Interpretability"
   ]
  },
  {
   "cell_type": "markdown",
   "metadata": {},
   "source": [
    "Although not well suited to a Jupyter notebook, [Slideflow Studio](https://slideflow.dev/studio/) provides an interactive, graphical user interface for generating model predictions across whole-slide images. Prior to training, Studio can be used for dataset curation and cleaning, allowing you to draw/edit ROIs, visualize the effect of varying slide processing methods, and generate ROIs through tissue segmentation models. After training, you can use Studio to interact with heatmaps or model predictions and/or attention. \n",
    "\n",
    "We highly recommend sitting down with a pathologist to review prediction/attention heatmaps, which is an excellent way to determine whether the model is making biologically-plausible predictions. It can also highlight previously undiscovered batch effects or confounders."
   ]
  },
  {
   "cell_type": "markdown",
   "metadata": {},
   "source": [
    "For our Studio demo, let's find an example HPV positive and HPV negative case. Each dataset contains a pandas dataframe with clinical outcomes; we'll use this to find our example patients."
   ]
  },
  {
   "cell_type": "code",
   "execution_count": null,
   "metadata": {},
   "outputs": [],
   "source": [
    "# Get the pandas dataframe of clinical annotations\n",
    "# in this test dataset.\n",
    "df = test.filtered_annotations\n",
    "\n",
    "# Show the HPV positive patients.\n",
    "df.loc[df.HPV_status == 'positive']"
   ]
  },
  {
   "cell_type": "code",
   "execution_count": null,
   "metadata": {},
   "outputs": [],
   "source": [
    "# Show the HPV negative patients.\n",
    "df.loc[df.HPV_status == 'negative']"
   ]
  },
  {
   "cell_type": "markdown",
   "metadata": {},
   "source": [
    "# High-Dimensional Feature Exploration"
   ]
  },
  {
   "cell_type": "markdown",
   "metadata": {},
   "source": [
    "There are many additional analytical tools in Slideflow beyond just dataset preparation and model training. For example, Slideflow includes tools for interacting with and visualizing high-dimensional feature vectors (e.g. those generated for MIL training). Generating UMAP plots of feature vectors provides a flexible tool for understanding the distribution of your data, probing for signal, and investigating for batch effects."
   ]
  },
  {
   "cell_type": "markdown",
   "metadata": {},
   "source": [
    "## Generating & Visualizing UMAPs"
   ]
  },
  {
   "cell_type": "code",
   "execution_count": null,
   "metadata": {
    "colab": {
     "base_uri": "https://localhost:8080/",
     "height": 524,
     "referenced_widgets": [
      "26fc3877b448434184fccce631db3ba7",
      "d630828ca94f4858ad82a14026726749",
      "079800d178d84a0390a7a8266572b7ab",
      "2c11c200d3054668a2ee07fdc048cc86",
      "e40ffe32bf79446b837d82c63dab189e",
      "3e9f9b72b70948d39b2c52695834945f",
      "033c001395534cb888a86945547ef3e2",
      "3d343bea738246cfb849444d5b3a6644",
      "26bf7ef97ecb4f348c6cff04ea3f65f1",
      "de97abd4e8cf437ab4fa6132b0c83cd8",
      "72713f72ebf842eab3fdfeaefb5d29c7",
      "16032e82dba241b4bc2c0a9f48b61e28",
      "296a1b21ebad4cfbb7e3090cfd0ce9e4",
      "341550fa8701477596254bafba6ab8d7",
      "541a13e7867f48a0a59305405e660104"
     ]
    },
    "id": "TDn0lr69Dye-",
    "outputId": "3b4bc856-8e20-4e96-a8e0-acab890e25a5"
   },
   "outputs": [],
   "source": [
    "# Next, we'll do some basic feature exploration by reducing the dimensionality\n",
    "# of the feature space with UMAP and visualize with plotting.\n",
    "features = sf.DatasetFeatures.from_bags(bags)\n",
    "slide_map = features.map_activations()"
   ]
  },
  {
   "cell_type": "markdown",
   "metadata": {},
   "source": [
    "Our UMAP-reduced feature space is now saved in the `slide_map` object. Let's take a look at our CTransPath vector distribution."
   ]
  },
  {
   "cell_type": "code",
   "execution_count": null,
   "metadata": {
    "colab": {
     "base_uri": "https://localhost:8080/",
     "height": 412
    },
    "id": "cmoVgU-u8a8I",
    "outputId": "6a42b93a-957d-4885-e6ce-11dc655234c4"
   },
   "outputs": [],
   "source": [
    "# Label and plot the UMAP.\n",
    "labels, unique = dataset.labels('HPV_status', format='name')\n",
    "slide_map.label_by_slide(labels)\n",
    "slide_map.plot(subsample=5000)"
   ]
  },
  {
   "cell_type": "markdown",
   "metadata": {},
   "source": [
    "It looks like there are two primary clusters in this dataset, and they do not seem to be associated with our outcome of interest (HPV). One of the first things we investigate when assessing clusters is to look for potential batch effects. Let's see if the site of origin (the hospital the tissue came from) is a confounder in this dataset."
   ]
  },
  {
   "cell_type": "code",
   "execution_count": null,
   "metadata": {},
   "outputs": [],
   "source": [
    "# Label and plot the UMAP.\n",
    "labels, unique = dataset.labels('site', format='name')\n",
    "slide_map.label_by_slide(labels)\n",
    "slide_map.plot(subsample=5000)"
   ]
  },
  {
   "cell_type": "markdown",
   "metadata": {},
   "source": [
    "Indeed, site of origin is a major confounder, and appears to be the primary association behind the clustering we see."
   ]
  },
  {
   "cell_type": "markdown",
   "metadata": {},
   "source": [
    "## Mosaic Maps"
   ]
  },
  {
   "cell_type": "markdown",
   "metadata": {},
   "source": [
    "For added interpretability, Slideflow can convert a UMAP into a \"mosaic map\" by overlaying representative image tiles. This can help provide a better understanding of the role of color, confounders, and obvious tissue morphology in the observed distribution/clustering of the data."
   ]
  },
  {
   "cell_type": "code",
   "execution_count": null,
   "metadata": {
    "colab": {
     "base_uri": "https://localhost:8080/",
     "height": 1000,
     "referenced_widgets": [
      "2309180fead04dfaa9c79530ddae624a",
      "f3879c9f429242a0be1012742114cf49"
     ]
    },
    "id": "_CzejG1N79ri",
    "outputId": "0fa308b3-99e0-422f-f9eb-7b362280dc4b"
   },
   "outputs": [],
   "source": [
    "# Plot the dimensionality-reduced UMAP of CTransPath features\n",
    "# as a mosaic, by overlaying representative image tiles.\n",
    "mosaic = slide_map.build_mosaic(tfrecords=dataset.tfrecords())\n",
    "mosaic.plot(figsize=(15, 15))"
   ]
  },
  {
   "cell_type": "markdown",
   "metadata": {},
   "source": [
    "Here, we can see that some of the clusters (e.g. the far bottom left) are clusters of artifactual pen marks. The primary and secondary clusters appear to be strongly associated with visually apparent color differences, consistent with the observation that these are associated with site of origin."
   ]
  },
  {
   "cell_type": "markdown",
   "metadata": {},
   "source": [
    "## Using these insights"
   ]
  },
  {
   "cell_type": "markdown",
   "metadata": {},
   "source": [
    "From these UMAP investigations, we've found evidence that there is site-related batch effect, color/stain-related batch effects, and pen mark batch effects. Knowing this, we can revisit our original dataset preparation and try the following:\n",
    "\n",
    "1. Experiment with different stain normalization strategies, to see if we can reduce the color effects in our visualized UMAPs\n",
    "2. Train models with site-preserved dataset splits, to avoid site-related confounders\n",
    "3. Improve our dataset QC with better pen mark removal\n",
    "\n",
    "Once we've done these things, we can try generating new UMAPs and see if things improve. Once things have improved, we can re-try model training. "
   ]
  },
  {
   "cell_type": "markdown",
   "metadata": {},
   "source": [
    "# Summary\n",
    "\n",
    "As we've seen, building stable and reliable models from digital pathology images is an iterative process, requiring tuning of dataset preparation methods, stain/color normalization, understanding of batch effects, hyperparameter tuning, and robust evaluation. Slideflow provides a large array of tools to support researchers through each of these steps. Although there is no \"one size fits all\" solution for building reliable pathology models, I hope this tutorial has been helpful in providing you with a framework for how to think through the necessary experimental process and has provided a foundation for future learning and development.\n",
    "\n",
    "For more information, please see the following:\n",
    "- Docs: https://slideflow.dev\n",
    "- GitHub: https://github.com/jamesdolezal/slideflow\n",
    "- Paper: https://bmcbioinformatics.biomedcentral.com/articles/10.1186/s12859-024-05758-x\n",
    "\n",
    "And should you have any questions, please do not hesitate to reach out to me directly at james@slideflow.dev.\n",
    "\n",
    "All the best,\n",
    "\n",
    "James"
   ]
  },
  {
   "cell_type": "code",
   "execution_count": null,
   "metadata": {},
   "outputs": [],
   "source": []
  },
  {
   "cell_type": "code",
   "execution_count": null,
   "metadata": {},
   "outputs": [],
   "source": []
  }
 ],
 "metadata": {
  "accelerator": "GPU",
  "colab": {
   "gpuType": "T4",
   "provenance": []
  },
  "kernelspec": {
   "display_name": "Python 3 (ipykernel)",
   "language": "python",
   "name": "python3"
  },
  "language_info": {
   "codemirror_mode": {
    "name": "ipython",
    "version": 3
   },
   "file_extension": ".py",
   "mimetype": "text/x-python",
   "name": "python",
   "nbconvert_exporter": "python",
   "pygments_lexer": "ipython3",
   "version": "3.9.19"
  },
  "widgets": {
   "application/vnd.jupyter.widget-state+json": {
    "00dcdbc282f94e5499d1b8328aa6f2e4": {
     "model_module": "@jupyter-widgets/base",
     "model_module_version": "1.2.0",
     "model_name": "LayoutModel",
     "state": {
      "_model_module": "@jupyter-widgets/base",
      "_model_module_version": "1.2.0",
      "_model_name": "LayoutModel",
      "_view_count": null,
      "_view_module": "@jupyter-widgets/base",
      "_view_module_version": "1.2.0",
      "_view_name": "LayoutView",
      "align_content": null,
      "align_items": null,
      "align_self": null,
      "border": null,
      "bottom": null,
      "display": null,
      "flex": null,
      "flex_flow": null,
      "grid_area": null,
      "grid_auto_columns": null,
      "grid_auto_flow": null,
      "grid_auto_rows": null,
      "grid_column": null,
      "grid_gap": null,
      "grid_row": null,
      "grid_template_areas": null,
      "grid_template_columns": null,
      "grid_template_rows": null,
      "height": null,
      "justify_content": null,
      "justify_items": null,
      "left": null,
      "margin": null,
      "max_height": null,
      "max_width": null,
      "min_height": null,
      "min_width": null,
      "object_fit": null,
      "object_position": null,
      "order": null,
      "overflow": null,
      "overflow_x": null,
      "overflow_y": null,
      "padding": null,
      "right": null,
      "top": null,
      "visibility": null,
      "width": null
     }
    },
    "033c001395534cb888a86945547ef3e2": {
     "model_module": "@jupyter-widgets/controls",
     "model_module_version": "1.5.0",
     "model_name": "FloatProgressModel",
     "state": {
      "_dom_classes": [],
      "_model_module": "@jupyter-widgets/controls",
      "_model_module_version": "1.5.0",
      "_model_name": "FloatProgressModel",
      "_view_count": null,
      "_view_module": "@jupyter-widgets/controls",
      "_view_module_version": "1.5.0",
      "_view_name": "ProgressView",
      "bar_style": "success",
      "description": "",
      "description_tooltip": null,
      "layout": "IPY_MODEL_16032e82dba241b4bc2c0a9f48b61e28",
      "max": 200,
      "min": 0,
      "orientation": "horizontal",
      "style": "IPY_MODEL_296a1b21ebad4cfbb7e3090cfd0ce9e4",
      "value": 200
     }
    },
    "079800d178d84a0390a7a8266572b7ab": {
     "model_module": "@jupyter-widgets/output",
     "model_module_version": "1.0.0",
     "model_name": "OutputModel",
     "state": {
      "_dom_classes": [],
      "_model_module": "@jupyter-widgets/output",
      "_model_module_version": "1.0.0",
      "_model_name": "OutputModel",
      "_view_count": null,
      "_view_module": "@jupyter-widgets/output",
      "_view_module_version": "1.0.0",
      "_view_name": "OutputView",
      "layout": "IPY_MODEL_2c11c200d3054668a2ee07fdc048cc86",
      "msg_id": "",
      "outputs": [
       {
        "data": {
         "text/html": "<pre style=\"white-space:pre;overflow-x:auto;line-height:normal;font-family:Menlo,'DejaVu Sans Mono',consolas,'Courier New',monospace\">Sorting... <span style=\"color: #729c1f; text-decoration-color: #729c1f\">━━━━━━━━━━━━━━━━━━━━━━━━━━━━━━━━━━━━━━━━</span> <span style=\"color: #800080; text-decoration-color: #800080\">100%</span> <span style=\"color: #808000; text-decoration-color: #808000\">0:00:03</span>\n</pre>\n",
         "text/plain": "Sorting... \u001b[38;2;114;156;31m━━━━━━━━━━━━━━━━━━━━━━━━━━━━━━━━━━━━━━━━\u001b[0m \u001b[35m100%\u001b[0m \u001b[33m0:00:03\u001b[0m\n"
        },
        "metadata": {},
        "output_type": "display_data"
       }
      ]
     }
    },
    "0f9c2dcb0f6944fc8f035e7156e3e7d4": {
     "model_module": "@jupyter-widgets/output",
     "model_module_version": "1.0.0",
     "model_name": "OutputModel",
     "state": {
      "_dom_classes": [],
      "_model_module": "@jupyter-widgets/output",
      "_model_module_version": "1.0.0",
      "_model_name": "OutputModel",
      "_view_count": null,
      "_view_module": "@jupyter-widgets/output",
      "_view_module_version": "1.0.0",
      "_view_name": "OutputView",
      "layout": "IPY_MODEL_b76954b2ae524bfba4f73a903c0bf183",
      "msg_id": "",
      "outputs": [
       {
        "data": {
         "text/html": "<pre style=\"white-space:pre;overflow-x:auto;line-height:normal;font-family:Menlo,'DejaVu Sans Mono',consolas,'Courier New',monospace\">Speed:  <span style=\"color: #800000; text-decoration-color: #800000\">92 img/s</span>\nExtracting... <span style=\"color: #729c1f; text-decoration-color: #729c1f\">━━━━━━━━━━━━━━━━━━━━━━━━━━━━━━━━━━━━━━━━</span> <span style=\"color: #800080; text-decoration-color: #800080\">100%</span> <span style=\"color: #008000; text-decoration-color: #008000\">20/20</span> ● <span style=\"color: #008080; text-decoration-color: #008080\">0:00:00</span>\n</pre>\n",
         "text/plain": "Speed:  \u001b[31m92 img/s\u001b[0m\nExtracting... \u001b[38;2;114;156;31m━━━━━━━━━━━━━━━━━━━━━━━━━━━━━━━━━━━━━━━━\u001b[0m \u001b[35m100%\u001b[0m \u001b[32m20/20\u001b[0m ● \u001b[36m0:00:00\u001b[0m\n"
        },
        "metadata": {},
        "output_type": "display_data"
       }
      ]
     }
    },
    "16032e82dba241b4bc2c0a9f48b61e28": {
     "model_module": "@jupyter-widgets/base",
     "model_module_version": "1.2.0",
     "model_name": "LayoutModel",
     "state": {
      "_model_module": "@jupyter-widgets/base",
      "_model_module_version": "1.2.0",
      "_model_name": "LayoutModel",
      "_view_count": null,
      "_view_module": "@jupyter-widgets/base",
      "_view_module_version": "1.2.0",
      "_view_name": "LayoutView",
      "align_content": null,
      "align_items": null,
      "align_self": null,
      "border": null,
      "bottom": null,
      "display": null,
      "flex": null,
      "flex_flow": null,
      "grid_area": null,
      "grid_auto_columns": null,
      "grid_auto_flow": null,
      "grid_auto_rows": null,
      "grid_column": null,
      "grid_gap": null,
      "grid_row": null,
      "grid_template_areas": null,
      "grid_template_columns": null,
      "grid_template_rows": null,
      "height": null,
      "justify_content": null,
      "justify_items": null,
      "left": null,
      "margin": null,
      "max_height": null,
      "max_width": null,
      "min_height": null,
      "min_width": null,
      "object_fit": null,
      "object_position": null,
      "order": null,
      "overflow": null,
      "overflow_x": null,
      "overflow_y": null,
      "padding": null,
      "right": null,
      "top": null,
      "visibility": null,
      "width": null
     }
    },
    "19319548024e43d99110bc9430eab608": {
     "model_module": "@jupyter-widgets/controls",
     "model_module_version": "1.5.0",
     "model_name": "FloatProgressModel",
     "state": {
      "_dom_classes": [],
      "_model_module": "@jupyter-widgets/controls",
      "_model_module_version": "1.5.0",
      "_model_name": "FloatProgressModel",
      "_view_count": null,
      "_view_module": "@jupyter-widgets/controls",
      "_view_module_version": "1.5.0",
      "_view_name": "ProgressView",
      "bar_style": "success",
      "description": "",
      "description_tooltip": null,
      "layout": "IPY_MODEL_73ba2e91e4e94d0fb08f9cb516f0f644",
      "max": 111292151,
      "min": 0,
      "orientation": "horizontal",
      "style": "IPY_MODEL_d9dc6a79fc7047448bc5a9064f36f7ca",
      "value": 111292151
     }
    },
    "1b66c3edf7214c76be9c010e11c7c028": {
     "model_module": "@jupyter-widgets/base",
     "model_module_version": "1.2.0",
     "model_name": "LayoutModel",
     "state": {
      "_model_module": "@jupyter-widgets/base",
      "_model_module_version": "1.2.0",
      "_model_name": "LayoutModel",
      "_view_count": null,
      "_view_module": "@jupyter-widgets/base",
      "_view_module_version": "1.2.0",
      "_view_name": "LayoutView",
      "align_content": null,
      "align_items": null,
      "align_self": null,
      "border": null,
      "bottom": null,
      "display": null,
      "flex": null,
      "flex_flow": null,
      "grid_area": null,
      "grid_auto_columns": null,
      "grid_auto_flow": null,
      "grid_auto_rows": null,
      "grid_column": null,
      "grid_gap": null,
      "grid_row": null,
      "grid_template_areas": null,
      "grid_template_columns": null,
      "grid_template_rows": null,
      "height": null,
      "justify_content": null,
      "justify_items": null,
      "left": null,
      "margin": null,
      "max_height": null,
      "max_width": null,
      "min_height": null,
      "min_width": null,
      "object_fit": null,
      "object_position": null,
      "order": null,
      "overflow": null,
      "overflow_x": null,
      "overflow_y": null,
      "padding": null,
      "right": null,
      "top": null,
      "visibility": null,
      "width": null
     }
    },
    "1b8b3901bc31411a9e864432071ecbd6": {
     "model_module": "@jupyter-widgets/output",
     "model_module_version": "1.0.0",
     "model_name": "OutputModel",
     "state": {
      "_dom_classes": [],
      "_model_module": "@jupyter-widgets/output",
      "_model_module_version": "1.0.0",
      "_model_name": "OutputModel",
      "_view_count": null,
      "_view_module": "@jupyter-widgets/output",
      "_view_module_version": "1.0.0",
      "_view_name": "OutputView",
      "layout": "IPY_MODEL_9b988c17f2de40e0bf29c69bb456dcb5",
      "msg_id": "",
      "outputs": [
       {
        "data": {
         "text/html": "<pre style=\"white-space:pre;overflow-x:auto;line-height:normal;font-family:Menlo,'DejaVu Sans Mono',consolas,'Courier New',monospace\">Updating index files... <span style=\"color: #729c1f; text-decoration-color: #729c1f\">━━━━━━━━━━━━━━━━━━━━━━━━━━━━━━━━━━━━━━━━</span> <span style=\"color: #800080; text-decoration-color: #800080\">100%</span> <span style=\"color: #808000; text-decoration-color: #808000\">0:00:04</span>\n</pre>\n",
         "text/plain": "Updating index files... \u001b[38;2;114;156;31m━━━━━━━━━━━━━━━━━━━━━━━━━━━━━━━━━━━━━━━━\u001b[0m \u001b[35m100%\u001b[0m \u001b[33m0:00:04\u001b[0m\n"
        },
        "metadata": {},
        "output_type": "display_data"
       }
      ]
     }
    },
    "21a6305c47c749e8b30fe20a6bf08b65": {
     "model_module": "@jupyter-widgets/output",
     "model_module_version": "1.0.0",
     "model_name": "OutputModel",
     "state": {
      "_dom_classes": [],
      "_model_module": "@jupyter-widgets/output",
      "_model_module_version": "1.0.0",
      "_model_name": "OutputModel",
      "_view_count": null,
      "_view_module": "@jupyter-widgets/output",
      "_view_module_version": "1.0.0",
      "_view_name": "OutputView",
      "layout": "IPY_MODEL_aef81399904449d483fd0cbdb822fde8",
      "msg_id": "",
      "outputs": [
       {
        "data": {
         "text/html": "<pre style=\"white-space:pre;overflow-x:auto;line-height:normal;font-family:Menlo,'DejaVu Sans Mono',consolas,'Courier New',monospace\"><span style=\"color: #008000; text-decoration-color: #008000\">⠴</span>\n</pre>\n",
         "text/plain": "\u001b[32m⠴\u001b[0m\n"
        },
        "metadata": {},
        "output_type": "display_data"
       }
      ]
     }
    },
    "2309180fead04dfaa9c79530ddae624a": {
     "model_module": "@jupyter-widgets/output",
     "model_module_version": "1.0.0",
     "model_name": "OutputModel",
     "state": {
      "_dom_classes": [],
      "_model_module": "@jupyter-widgets/output",
      "_model_module_version": "1.0.0",
      "_model_name": "OutputModel",
      "_view_count": null,
      "_view_module": "@jupyter-widgets/output",
      "_view_module_version": "1.0.0",
      "_view_name": "OutputView",
      "layout": "IPY_MODEL_f3879c9f429242a0be1012742114cf49",
      "msg_id": "",
      "outputs": [
       {
        "data": {
         "text/html": "<pre style=\"white-space:pre;overflow-x:auto;line-height:normal;font-family:Menlo,'DejaVu Sans Mono',consolas,'Courier New',monospace\">Working... <span style=\"color: #729c1f; text-decoration-color: #729c1f\">━━━━━━━━━━━━━━━━━━━━━━━━━━━━━━━━━━━━━━━━</span> <span style=\"color: #800080; text-decoration-color: #800080\">100%</span> <span style=\"color: #808000; text-decoration-color: #808000\">0:00:01</span>\n</pre>\n",
         "text/plain": "Working... \u001b[38;2;114;156;31m━━━━━━━━━━━━━━━━━━━━━━━━━━━━━━━━━━━━━━━━\u001b[0m \u001b[35m100%\u001b[0m \u001b[33m0:00:01\u001b[0m\n"
        },
        "metadata": {},
        "output_type": "display_data"
       }
      ]
     }
    },
    "26bf7ef97ecb4f348c6cff04ea3f65f1": {
     "model_module": "@jupyter-widgets/base",
     "model_module_version": "1.2.0",
     "model_name": "LayoutModel",
     "state": {
      "_model_module": "@jupyter-widgets/base",
      "_model_module_version": "1.2.0",
      "_model_name": "LayoutModel",
      "_view_count": null,
      "_view_module": "@jupyter-widgets/base",
      "_view_module_version": "1.2.0",
      "_view_name": "LayoutView",
      "align_content": null,
      "align_items": null,
      "align_self": null,
      "border": null,
      "bottom": null,
      "display": null,
      "flex": null,
      "flex_flow": null,
      "grid_area": null,
      "grid_auto_columns": null,
      "grid_auto_flow": null,
      "grid_auto_rows": null,
      "grid_column": null,
      "grid_gap": null,
      "grid_row": null,
      "grid_template_areas": null,
      "grid_template_columns": null,
      "grid_template_rows": null,
      "height": null,
      "justify_content": null,
      "justify_items": null,
      "left": null,
      "margin": null,
      "max_height": null,
      "max_width": null,
      "min_height": null,
      "min_width": null,
      "object_fit": null,
      "object_position": null,
      "order": null,
      "overflow": null,
      "overflow_x": null,
      "overflow_y": null,
      "padding": null,
      "right": null,
      "top": null,
      "visibility": null,
      "width": null
     }
    },
    "26fc3877b448434184fccce631db3ba7": {
     "model_module": "@jupyter-widgets/output",
     "model_module_version": "1.0.0",
     "model_name": "OutputModel",
     "state": {
      "_dom_classes": [],
      "_model_module": "@jupyter-widgets/output",
      "_model_module_version": "1.0.0",
      "_model_name": "OutputModel",
      "_view_count": null,
      "_view_module": "@jupyter-widgets/output",
      "_view_module_version": "1.0.0",
      "_view_name": "OutputView",
      "layout": "IPY_MODEL_d630828ca94f4858ad82a14026726749",
      "msg_id": "",
      "outputs": [
       {
        "data": {
         "text/html": "<pre style=\"white-space:pre;overflow-x:auto;line-height:normal;font-family:Menlo,'DejaVu Sans Mono',consolas,'Courier New',monospace\">Generating... <span style=\"color: #729c1f; text-decoration-color: #729c1f\">━━━━━━━━━━━━━━━━━━━━━━━━━━━━━━━━━━━━━━━━</span> <span style=\"color: #800080; text-decoration-color: #800080\">100%</span> <span style=\"color: #008080; text-decoration-color: #008080\">0:00:00</span> <span style=\"color: #800000; text-decoration-color: #800000\">227 img/s</span>\n</pre>\n",
         "text/plain": "Generating... \u001b[38;2;114;156;31m━━━━━━━━━━━━━━━━━━━━━━━━━━━━━━━━━━━━━━━━\u001b[0m \u001b[35m100%\u001b[0m \u001b[36m0:00:00\u001b[0m \u001b[31m227 img/s\u001b[0m\n"
        },
        "metadata": {},
        "output_type": "display_data"
       }
      ]
     }
    },
    "296a1b21ebad4cfbb7e3090cfd0ce9e4": {
     "model_module": "@jupyter-widgets/controls",
     "model_module_version": "1.5.0",
     "model_name": "ProgressStyleModel",
     "state": {
      "_model_module": "@jupyter-widgets/controls",
      "_model_module_version": "1.5.0",
      "_model_name": "ProgressStyleModel",
      "_view_count": null,
      "_view_module": "@jupyter-widgets/base",
      "_view_module_version": "1.2.0",
      "_view_name": "StyleView",
      "bar_color": null,
      "description_width": ""
     }
    },
    "2b817e0ec49a46fe85df19c3021821fd": {
     "model_module": "@jupyter-widgets/controls",
     "model_module_version": "1.5.0",
     "model_name": "DescriptionStyleModel",
     "state": {
      "_model_module": "@jupyter-widgets/controls",
      "_model_module_version": "1.5.0",
      "_model_name": "DescriptionStyleModel",
      "_view_count": null,
      "_view_module": "@jupyter-widgets/base",
      "_view_module_version": "1.2.0",
      "_view_name": "StyleView",
      "description_width": ""
     }
    },
    "2c11c200d3054668a2ee07fdc048cc86": {
     "model_module": "@jupyter-widgets/base",
     "model_module_version": "1.2.0",
     "model_name": "LayoutModel",
     "state": {
      "_model_module": "@jupyter-widgets/base",
      "_model_module_version": "1.2.0",
      "_model_name": "LayoutModel",
      "_view_count": null,
      "_view_module": "@jupyter-widgets/base",
      "_view_module_version": "1.2.0",
      "_view_name": "LayoutView",
      "align_content": null,
      "align_items": null,
      "align_self": null,
      "border": null,
      "bottom": null,
      "display": null,
      "flex": null,
      "flex_flow": null,
      "grid_area": null,
      "grid_auto_columns": null,
      "grid_auto_flow": null,
      "grid_auto_rows": null,
      "grid_column": null,
      "grid_gap": null,
      "grid_row": null,
      "grid_template_areas": null,
      "grid_template_columns": null,
      "grid_template_rows": null,
      "height": null,
      "justify_content": null,
      "justify_items": null,
      "left": null,
      "margin": null,
      "max_height": null,
      "max_width": null,
      "min_height": null,
      "min_width": null,
      "object_fit": null,
      "object_position": null,
      "order": null,
      "overflow": null,
      "overflow_x": null,
      "overflow_y": null,
      "padding": null,
      "right": null,
      "top": null,
      "visibility": null,
      "width": null
     }
    },
    "341550fa8701477596254bafba6ab8d7": {
     "model_module": "@jupyter-widgets/base",
     "model_module_version": "1.2.0",
     "model_name": "LayoutModel",
     "state": {
      "_model_module": "@jupyter-widgets/base",
      "_model_module_version": "1.2.0",
      "_model_name": "LayoutModel",
      "_view_count": null,
      "_view_module": "@jupyter-widgets/base",
      "_view_module_version": "1.2.0",
      "_view_name": "LayoutView",
      "align_content": null,
      "align_items": null,
      "align_self": null,
      "border": null,
      "bottom": null,
      "display": null,
      "flex": null,
      "flex_flow": null,
      "grid_area": null,
      "grid_auto_columns": null,
      "grid_auto_flow": null,
      "grid_auto_rows": null,
      "grid_column": null,
      "grid_gap": null,
      "grid_row": null,
      "grid_template_areas": null,
      "grid_template_columns": null,
      "grid_template_rows": null,
      "height": null,
      "justify_content": null,
      "justify_items": null,
      "left": null,
      "margin": null,
      "max_height": null,
      "max_width": null,
      "min_height": null,
      "min_width": null,
      "object_fit": null,
      "object_position": null,
      "order": null,
      "overflow": null,
      "overflow_x": null,
      "overflow_y": null,
      "padding": null,
      "right": null,
      "top": null,
      "visibility": null,
      "width": null
     }
    },
    "3481841c98294e2e8c5bc04522568d5f": {
     "model_module": "@jupyter-widgets/base",
     "model_module_version": "1.2.0",
     "model_name": "LayoutModel",
     "state": {
      "_model_module": "@jupyter-widgets/base",
      "_model_module_version": "1.2.0",
      "_model_name": "LayoutModel",
      "_view_count": null,
      "_view_module": "@jupyter-widgets/base",
      "_view_module_version": "1.2.0",
      "_view_name": "LayoutView",
      "align_content": null,
      "align_items": null,
      "align_self": null,
      "border": null,
      "bottom": null,
      "display": null,
      "flex": null,
      "flex_flow": null,
      "grid_area": null,
      "grid_auto_columns": null,
      "grid_auto_flow": null,
      "grid_auto_rows": null,
      "grid_column": null,
      "grid_gap": null,
      "grid_row": null,
      "grid_template_areas": null,
      "grid_template_columns": null,
      "grid_template_rows": null,
      "height": null,
      "justify_content": null,
      "justify_items": null,
      "left": null,
      "margin": null,
      "max_height": null,
      "max_width": null,
      "min_height": null,
      "min_width": null,
      "object_fit": null,
      "object_position": null,
      "order": null,
      "overflow": null,
      "overflow_x": null,
      "overflow_y": null,
      "padding": null,
      "right": null,
      "top": null,
      "visibility": null,
      "width": null
     }
    },
    "373abaad3a664374a74548e70f67ba39": {
     "model_module": "@jupyter-widgets/output",
     "model_module_version": "1.0.0",
     "model_name": "OutputModel",
     "state": {
      "_dom_classes": [],
      "_model_module": "@jupyter-widgets/output",
      "_model_module_version": "1.0.0",
      "_model_name": "OutputModel",
      "_view_count": null,
      "_view_module": "@jupyter-widgets/output",
      "_view_module_version": "1.0.0",
      "_view_name": "OutputView",
      "layout": "IPY_MODEL_3922ca5fdf7442ed8799ea4a56388346",
      "msg_id": "",
      "outputs": [
       {
        "data": {
         "text/html": "<pre style=\"white-space:pre;overflow-x:auto;line-height:normal;font-family:Menlo,'DejaVu Sans Mono',consolas,'Courier New',monospace\">Verifying tfrecords... <span style=\"color: #729c1f; text-decoration-color: #729c1f\">━━━━━━━━━━━━━━━━━━━━━━━━━━━━━━━━━━━━━━━━</span> <span style=\"color: #800080; text-decoration-color: #800080\">  0%</span> <span style=\"color: #008080; text-decoration-color: #008080\">-:--:--</span>\n</pre>\n",
         "text/plain": "Verifying tfrecords... \u001b[38;2;114;156;31m━━━━━━━━━━━━━━━━━━━━━━━━━━━━━━━━━━━━━━━━\u001b[0m \u001b[35m  0%\u001b[0m \u001b[36m-:--:--\u001b[0m\n"
        },
        "metadata": {},
        "output_type": "display_data"
       }
      ]
     }
    },
    "3922ca5fdf7442ed8799ea4a56388346": {
     "model_module": "@jupyter-widgets/base",
     "model_module_version": "1.2.0",
     "model_name": "LayoutModel",
     "state": {
      "_model_module": "@jupyter-widgets/base",
      "_model_module_version": "1.2.0",
      "_model_name": "LayoutModel",
      "_view_count": null,
      "_view_module": "@jupyter-widgets/base",
      "_view_module_version": "1.2.0",
      "_view_name": "LayoutView",
      "align_content": null,
      "align_items": null,
      "align_self": null,
      "border": null,
      "bottom": null,
      "display": null,
      "flex": null,
      "flex_flow": null,
      "grid_area": null,
      "grid_auto_columns": null,
      "grid_auto_flow": null,
      "grid_auto_rows": null,
      "grid_column": null,
      "grid_gap": null,
      "grid_row": null,
      "grid_template_areas": null,
      "grid_template_columns": null,
      "grid_template_rows": null,
      "height": null,
      "justify_content": null,
      "justify_items": null,
      "left": null,
      "margin": null,
      "max_height": null,
      "max_width": null,
      "min_height": null,
      "min_width": null,
      "object_fit": null,
      "object_position": null,
      "order": null,
      "overflow": null,
      "overflow_x": null,
      "overflow_y": null,
      "padding": null,
      "right": null,
      "top": null,
      "visibility": null,
      "width": null
     }
    },
    "3b80fdb5bd514fb193406711563eee9b": {
     "model_module": "@jupyter-widgets/output",
     "model_module_version": "1.0.0",
     "model_name": "OutputModel",
     "state": {
      "_dom_classes": [],
      "_model_module": "@jupyter-widgets/output",
      "_model_module_version": "1.0.0",
      "_model_name": "OutputModel",
      "_view_count": null,
      "_view_module": "@jupyter-widgets/output",
      "_view_module_version": "1.0.0",
      "_view_name": "OutputView",
      "layout": "IPY_MODEL_1b66c3edf7214c76be9c010e11c7c028",
      "msg_id": "",
      "outputs": [
       {
        "data": {
         "text/html": "<pre style=\"white-space:pre;overflow-x:auto;line-height:normal;font-family:Menlo,'DejaVu Sans Mono',consolas,'Courier New',monospace\">  Evaluating... <span style=\"color: #729c1f; text-decoration-color: #729c1f\">━━━━━━━━━━━━━━━━━━━━━━━━━━━━━━━━━━━━━━━━</span> <span style=\"color: #800080; text-decoration-color: #800080\">100%</span> <span style=\"color: #008080; text-decoration-color: #008080\">0:00:00</span> <span style=\"color: #808000; text-decoration-color: #808000\">0:00:29</span> <span style=\"color: #800000; text-decoration-color: #800000\">221 img/s</span>\n</pre>\n",
         "text/plain": "  Evaluating... \u001b[38;2;114;156;31m━━━━━━━━━━━━━━━━━━━━━━━━━━━━━━━━━━━━━━━━\u001b[0m \u001b[35m100%\u001b[0m \u001b[36m0:00:00\u001b[0m \u001b[33m0:00:29\u001b[0m \u001b[31m221 img/s\u001b[0m\n"
        },
        "metadata": {},
        "output_type": "display_data"
       }
      ]
     }
    },
    "3d343bea738246cfb849444d5b3a6644": {
     "model_module": "@jupyter-widgets/controls",
     "model_module_version": "1.5.0",
     "model_name": "HTMLModel",
     "state": {
      "_dom_classes": [],
      "_model_module": "@jupyter-widgets/controls",
      "_model_module_version": "1.5.0",
      "_model_name": "HTMLModel",
      "_view_count": null,
      "_view_module": "@jupyter-widgets/controls",
      "_view_module_version": "1.5.0",
      "_view_name": "HTMLView",
      "description": "",
      "description_tooltip": null,
      "layout": "IPY_MODEL_341550fa8701477596254bafba6ab8d7",
      "placeholder": "​",
      "style": "IPY_MODEL_541a13e7867f48a0a59305405e660104",
      "value": " 200/200 [00:39]"
     }
    },
    "3e9f9b72b70948d39b2c52695834945f": {
     "model_module": "@jupyter-widgets/controls",
     "model_module_version": "1.5.0",
     "model_name": "HTMLModel",
     "state": {
      "_dom_classes": [],
      "_model_module": "@jupyter-widgets/controls",
      "_model_module_version": "1.5.0",
      "_model_name": "HTMLModel",
      "_view_count": null,
      "_view_module": "@jupyter-widgets/controls",
      "_view_module_version": "1.5.0",
      "_view_name": "HTMLView",
      "description": "",
      "description_tooltip": null,
      "layout": "IPY_MODEL_de97abd4e8cf437ab4fa6132b0c83cd8",
      "placeholder": "​",
      "style": "IPY_MODEL_72713f72ebf842eab3fdfeaefb5d29c7",
      "value": "Epochs completed: 100%| "
     }
    },
    "541a13e7867f48a0a59305405e660104": {
     "model_module": "@jupyter-widgets/controls",
     "model_module_version": "1.5.0",
     "model_name": "DescriptionStyleModel",
     "state": {
      "_model_module": "@jupyter-widgets/controls",
      "_model_module_version": "1.5.0",
      "_model_name": "DescriptionStyleModel",
      "_view_count": null,
      "_view_module": "@jupyter-widgets/base",
      "_view_module_version": "1.2.0",
      "_view_name": "StyleView",
      "description_width": ""
     }
    },
    "547257029e884db080cc53dc83daafaa": {
     "model_module": "@jupyter-widgets/base",
     "model_module_version": "1.2.0",
     "model_name": "LayoutModel",
     "state": {
      "_model_module": "@jupyter-widgets/base",
      "_model_module_version": "1.2.0",
      "_model_name": "LayoutModel",
      "_view_count": null,
      "_view_module": "@jupyter-widgets/base",
      "_view_module_version": "1.2.0",
      "_view_name": "LayoutView",
      "align_content": null,
      "align_items": null,
      "align_self": null,
      "border": null,
      "bottom": null,
      "display": null,
      "flex": null,
      "flex_flow": null,
      "grid_area": null,
      "grid_auto_columns": null,
      "grid_auto_flow": null,
      "grid_auto_rows": null,
      "grid_column": null,
      "grid_gap": null,
      "grid_row": null,
      "grid_template_areas": null,
      "grid_template_columns": null,
      "grid_template_rows": null,
      "height": null,
      "justify_content": null,
      "justify_items": null,
      "left": null,
      "margin": null,
      "max_height": null,
      "max_width": null,
      "min_height": null,
      "min_width": null,
      "object_fit": null,
      "object_position": null,
      "order": null,
      "overflow": null,
      "overflow_x": null,
      "overflow_y": null,
      "padding": null,
      "right": null,
      "top": null,
      "visibility": null,
      "width": null
     }
    },
    "5be3961ea8ba495bb0fe14692d96b642": {
     "model_module": "@jupyter-widgets/base",
     "model_module_version": "1.2.0",
     "model_name": "LayoutModel",
     "state": {
      "_model_module": "@jupyter-widgets/base",
      "_model_module_version": "1.2.0",
      "_model_name": "LayoutModel",
      "_view_count": null,
      "_view_module": "@jupyter-widgets/base",
      "_view_module_version": "1.2.0",
      "_view_name": "LayoutView",
      "align_content": null,
      "align_items": null,
      "align_self": null,
      "border": null,
      "bottom": null,
      "display": null,
      "flex": null,
      "flex_flow": null,
      "grid_area": null,
      "grid_auto_columns": null,
      "grid_auto_flow": null,
      "grid_auto_rows": null,
      "grid_column": null,
      "grid_gap": null,
      "grid_row": null,
      "grid_template_areas": null,
      "grid_template_columns": null,
      "grid_template_rows": null,
      "height": null,
      "justify_content": null,
      "justify_items": null,
      "left": null,
      "margin": null,
      "max_height": null,
      "max_width": null,
      "min_height": null,
      "min_width": null,
      "object_fit": null,
      "object_position": null,
      "order": null,
      "overflow": null,
      "overflow_x": null,
      "overflow_y": null,
      "padding": null,
      "right": null,
      "top": null,
      "visibility": null,
      "width": null
     }
    },
    "72713f72ebf842eab3fdfeaefb5d29c7": {
     "model_module": "@jupyter-widgets/controls",
     "model_module_version": "1.5.0",
     "model_name": "DescriptionStyleModel",
     "state": {
      "_model_module": "@jupyter-widgets/controls",
      "_model_module_version": "1.5.0",
      "_model_name": "DescriptionStyleModel",
      "_view_count": null,
      "_view_module": "@jupyter-widgets/base",
      "_view_module_version": "1.2.0",
      "_view_name": "StyleView",
      "description_width": ""
     }
    },
    "73ba2e91e4e94d0fb08f9cb516f0f644": {
     "model_module": "@jupyter-widgets/base",
     "model_module_version": "1.2.0",
     "model_name": "LayoutModel",
     "state": {
      "_model_module": "@jupyter-widgets/base",
      "_model_module_version": "1.2.0",
      "_model_name": "LayoutModel",
      "_view_count": null,
      "_view_module": "@jupyter-widgets/base",
      "_view_module_version": "1.2.0",
      "_view_name": "LayoutView",
      "align_content": null,
      "align_items": null,
      "align_self": null,
      "border": null,
      "bottom": null,
      "display": null,
      "flex": null,
      "flex_flow": null,
      "grid_area": null,
      "grid_auto_columns": null,
      "grid_auto_flow": null,
      "grid_auto_rows": null,
      "grid_column": null,
      "grid_gap": null,
      "grid_row": null,
      "grid_template_areas": null,
      "grid_template_columns": null,
      "grid_template_rows": null,
      "height": null,
      "justify_content": null,
      "justify_items": null,
      "left": null,
      "margin": null,
      "max_height": null,
      "max_width": null,
      "min_height": null,
      "min_width": null,
      "object_fit": null,
      "object_position": null,
      "order": null,
      "overflow": null,
      "overflow_x": null,
      "overflow_y": null,
      "padding": null,
      "right": null,
      "top": null,
      "visibility": null,
      "width": null
     }
    },
    "74752b5dffe64423b09d54633c6b01d2": {
     "model_module": "@jupyter-widgets/base",
     "model_module_version": "1.2.0",
     "model_name": "LayoutModel",
     "state": {
      "_model_module": "@jupyter-widgets/base",
      "_model_module_version": "1.2.0",
      "_model_name": "LayoutModel",
      "_view_count": null,
      "_view_module": "@jupyter-widgets/base",
      "_view_module_version": "1.2.0",
      "_view_name": "LayoutView",
      "align_content": null,
      "align_items": null,
      "align_self": null,
      "border": null,
      "bottom": null,
      "display": null,
      "flex": null,
      "flex_flow": null,
      "grid_area": null,
      "grid_auto_columns": null,
      "grid_auto_flow": null,
      "grid_auto_rows": null,
      "grid_column": null,
      "grid_gap": null,
      "grid_row": null,
      "grid_template_areas": null,
      "grid_template_columns": null,
      "grid_template_rows": null,
      "height": null,
      "justify_content": null,
      "justify_items": null,
      "left": null,
      "margin": null,
      "max_height": null,
      "max_width": null,
      "min_height": null,
      "min_width": null,
      "object_fit": null,
      "object_position": null,
      "order": null,
      "overflow": null,
      "overflow_x": null,
      "overflow_y": null,
      "padding": null,
      "right": null,
      "top": null,
      "visibility": null,
      "width": null
     }
    },
    "7ba2bb481165447996d946dace078ad9": {
     "model_module": "@jupyter-widgets/controls",
     "model_module_version": "1.5.0",
     "model_name": "DescriptionStyleModel",
     "state": {
      "_model_module": "@jupyter-widgets/controls",
      "_model_module_version": "1.5.0",
      "_model_name": "DescriptionStyleModel",
      "_view_count": null,
      "_view_module": "@jupyter-widgets/base",
      "_view_module_version": "1.2.0",
      "_view_name": "StyleView",
      "description_width": ""
     }
    },
    "8edc29dcadc8422685101fa29e224a70": {
     "model_module": "@jupyter-widgets/base",
     "model_module_version": "1.2.0",
     "model_name": "LayoutModel",
     "state": {
      "_model_module": "@jupyter-widgets/base",
      "_model_module_version": "1.2.0",
      "_model_name": "LayoutModel",
      "_view_count": null,
      "_view_module": "@jupyter-widgets/base",
      "_view_module_version": "1.2.0",
      "_view_name": "LayoutView",
      "align_content": null,
      "align_items": null,
      "align_self": null,
      "border": null,
      "bottom": null,
      "display": null,
      "flex": null,
      "flex_flow": null,
      "grid_area": null,
      "grid_auto_columns": null,
      "grid_auto_flow": null,
      "grid_auto_rows": null,
      "grid_column": null,
      "grid_gap": null,
      "grid_row": null,
      "grid_template_areas": null,
      "grid_template_columns": null,
      "grid_template_rows": null,
      "height": null,
      "justify_content": null,
      "justify_items": null,
      "left": null,
      "margin": null,
      "max_height": null,
      "max_width": null,
      "min_height": null,
      "min_width": null,
      "object_fit": null,
      "object_position": null,
      "order": null,
      "overflow": null,
      "overflow_x": null,
      "overflow_y": null,
      "padding": null,
      "right": null,
      "top": null,
      "visibility": null,
      "width": null
     }
    },
    "94d6a91fdab3481bbe9be0b6d819a67f": {
     "model_module": "@jupyter-widgets/controls",
     "model_module_version": "1.5.0",
     "model_name": "HBoxModel",
     "state": {
      "_dom_classes": [],
      "_model_module": "@jupyter-widgets/controls",
      "_model_module_version": "1.5.0",
      "_model_name": "HBoxModel",
      "_view_count": null,
      "_view_module": "@jupyter-widgets/controls",
      "_view_module_version": "1.5.0",
      "_view_name": "HBoxView",
      "box_style": "",
      "children": [
       "IPY_MODEL_e0acdd90628b4200b00509d3e5394e90",
       "IPY_MODEL_19319548024e43d99110bc9430eab608",
       "IPY_MODEL_b5be9f9d250e4ef6ae3404be3c772cda"
      ],
      "layout": "IPY_MODEL_547257029e884db080cc53dc83daafaa"
     }
    },
    "9b988c17f2de40e0bf29c69bb456dcb5": {
     "model_module": "@jupyter-widgets/base",
     "model_module_version": "1.2.0",
     "model_name": "LayoutModel",
     "state": {
      "_model_module": "@jupyter-widgets/base",
      "_model_module_version": "1.2.0",
      "_model_name": "LayoutModel",
      "_view_count": null,
      "_view_module": "@jupyter-widgets/base",
      "_view_module_version": "1.2.0",
      "_view_name": "LayoutView",
      "align_content": null,
      "align_items": null,
      "align_self": null,
      "border": null,
      "bottom": null,
      "display": null,
      "flex": null,
      "flex_flow": null,
      "grid_area": null,
      "grid_auto_columns": null,
      "grid_auto_flow": null,
      "grid_auto_rows": null,
      "grid_column": null,
      "grid_gap": null,
      "grid_row": null,
      "grid_template_areas": null,
      "grid_template_columns": null,
      "grid_template_rows": null,
      "height": null,
      "justify_content": null,
      "justify_items": null,
      "left": null,
      "margin": null,
      "max_height": null,
      "max_width": null,
      "min_height": null,
      "min_width": null,
      "object_fit": null,
      "object_position": null,
      "order": null,
      "overflow": null,
      "overflow_x": null,
      "overflow_y": null,
      "padding": null,
      "right": null,
      "top": null,
      "visibility": null,
      "width": null
     }
    },
    "a4d8fd9a18e94097864b0576429f92bc": {
     "model_module": "@jupyter-widgets/base",
     "model_module_version": "1.2.0",
     "model_name": "LayoutModel",
     "state": {
      "_model_module": "@jupyter-widgets/base",
      "_model_module_version": "1.2.0",
      "_model_name": "LayoutModel",
      "_view_count": null,
      "_view_module": "@jupyter-widgets/base",
      "_view_module_version": "1.2.0",
      "_view_name": "LayoutView",
      "align_content": null,
      "align_items": null,
      "align_self": null,
      "border": null,
      "bottom": null,
      "display": null,
      "flex": null,
      "flex_flow": null,
      "grid_area": null,
      "grid_auto_columns": null,
      "grid_auto_flow": null,
      "grid_auto_rows": null,
      "grid_column": null,
      "grid_gap": null,
      "grid_row": null,
      "grid_template_areas": null,
      "grid_template_columns": null,
      "grid_template_rows": null,
      "height": null,
      "justify_content": null,
      "justify_items": null,
      "left": null,
      "margin": null,
      "max_height": null,
      "max_width": null,
      "min_height": null,
      "min_width": null,
      "object_fit": null,
      "object_position": null,
      "order": null,
      "overflow": null,
      "overflow_x": null,
      "overflow_y": null,
      "padding": null,
      "right": null,
      "top": null,
      "visibility": null,
      "width": null
     }
    },
    "aef81399904449d483fd0cbdb822fde8": {
     "model_module": "@jupyter-widgets/base",
     "model_module_version": "1.2.0",
     "model_name": "LayoutModel",
     "state": {
      "_model_module": "@jupyter-widgets/base",
      "_model_module_version": "1.2.0",
      "_model_name": "LayoutModel",
      "_view_count": null,
      "_view_module": "@jupyter-widgets/base",
      "_view_module_version": "1.2.0",
      "_view_name": "LayoutView",
      "align_content": null,
      "align_items": null,
      "align_self": null,
      "border": null,
      "bottom": null,
      "display": null,
      "flex": null,
      "flex_flow": null,
      "grid_area": null,
      "grid_auto_columns": null,
      "grid_auto_flow": null,
      "grid_auto_rows": null,
      "grid_column": null,
      "grid_gap": null,
      "grid_row": null,
      "grid_template_areas": null,
      "grid_template_columns": null,
      "grid_template_rows": null,
      "height": null,
      "justify_content": null,
      "justify_items": null,
      "left": null,
      "margin": null,
      "max_height": null,
      "max_width": null,
      "min_height": null,
      "min_width": null,
      "object_fit": null,
      "object_position": null,
      "order": null,
      "overflow": null,
      "overflow_x": null,
      "overflow_y": null,
      "padding": null,
      "right": null,
      "top": null,
      "visibility": null,
      "width": null
     }
    },
    "b5be9f9d250e4ef6ae3404be3c772cda": {
     "model_module": "@jupyter-widgets/controls",
     "model_module_version": "1.5.0",
     "model_name": "HTMLModel",
     "state": {
      "_dom_classes": [],
      "_model_module": "@jupyter-widgets/controls",
      "_model_module_version": "1.5.0",
      "_model_name": "HTMLModel",
      "_view_count": null,
      "_view_module": "@jupyter-widgets/controls",
      "_view_module_version": "1.5.0",
      "_view_name": "HTMLView",
      "description": "",
      "description_tooltip": null,
      "layout": "IPY_MODEL_a4d8fd9a18e94097864b0576429f92bc",
      "placeholder": "​",
      "style": "IPY_MODEL_2b817e0ec49a46fe85df19c3021821fd",
      "value": " 111M/111M [00:08&lt;00:00, 14.7MB/s]"
     }
    },
    "b76954b2ae524bfba4f73a903c0bf183": {
     "model_module": "@jupyter-widgets/base",
     "model_module_version": "1.2.0",
     "model_name": "LayoutModel",
     "state": {
      "_model_module": "@jupyter-widgets/base",
      "_model_module_version": "1.2.0",
      "_model_name": "LayoutModel",
      "_view_count": null,
      "_view_module": "@jupyter-widgets/base",
      "_view_module_version": "1.2.0",
      "_view_name": "LayoutView",
      "align_content": null,
      "align_items": null,
      "align_self": null,
      "border": null,
      "bottom": null,
      "display": null,
      "flex": null,
      "flex_flow": null,
      "grid_area": null,
      "grid_auto_columns": null,
      "grid_auto_flow": null,
      "grid_auto_rows": null,
      "grid_column": null,
      "grid_gap": null,
      "grid_row": null,
      "grid_template_areas": null,
      "grid_template_columns": null,
      "grid_template_rows": null,
      "height": null,
      "justify_content": null,
      "justify_items": null,
      "left": null,
      "margin": null,
      "max_height": null,
      "max_width": null,
      "min_height": null,
      "min_width": null,
      "object_fit": null,
      "object_position": null,
      "order": null,
      "overflow": null,
      "overflow_x": null,
      "overflow_y": null,
      "padding": null,
      "right": null,
      "top": null,
      "visibility": null,
      "width": null
     }
    },
    "c5b328597e47437d85312d84321e97a2": {
     "model_module": "@jupyter-widgets/output",
     "model_module_version": "1.0.0",
     "model_name": "OutputModel",
     "state": {
      "_dom_classes": [],
      "_model_module": "@jupyter-widgets/output",
      "_model_module_version": "1.0.0",
      "_model_name": "OutputModel",
      "_view_count": null,
      "_view_module": "@jupyter-widgets/output",
      "_view_module_version": "1.0.0",
      "_view_name": "OutputView",
      "layout": "IPY_MODEL_d1bdcf258d314a0c88d067b270597397",
      "msg_id": "",
      "outputs": [
       {
        "data": {
         "text/html": "<pre style=\"white-space:pre;overflow-x:auto;line-height:normal;font-family:Menlo,'DejaVu Sans Mono',consolas,'Courier New',monospace\">Verifying tfrecords... <span style=\"color: #729c1f; text-decoration-color: #729c1f\">━━━━━━━━━━━━━━━━━━━━━━━━━━━━━━━━━━━━━━━━</span> <span style=\"color: #800080; text-decoration-color: #800080\">100%</span> <span style=\"color: #008080; text-decoration-color: #008080\">0:00:00</span>\n</pre>\n",
         "text/plain": "Verifying tfrecords... \u001b[38;2;114;156;31m━━━━━━━━━━━━━━━━━━━━━━━━━━━━━━━━━━━━━━━━\u001b[0m \u001b[35m100%\u001b[0m \u001b[36m0:00:00\u001b[0m\n"
        },
        "metadata": {},
        "output_type": "display_data"
       }
      ]
     }
    },
    "c8b27f4d244d48c9b248bbbb13fd74a0": {
     "model_module": "@jupyter-widgets/output",
     "model_module_version": "1.0.0",
     "model_name": "OutputModel",
     "state": {
      "_dom_classes": [],
      "_model_module": "@jupyter-widgets/output",
      "_model_module_version": "1.0.0",
      "_model_name": "OutputModel",
      "_view_count": null,
      "_view_module": "@jupyter-widgets/output",
      "_view_module_version": "1.0.0",
      "_view_name": "OutputView",
      "layout": "IPY_MODEL_74752b5dffe64423b09d54633c6b01d2",
      "msg_id": "",
      "outputs": [
       {
        "data": {
         "text/html": "<pre style=\"white-space:pre;overflow-x:auto;line-height:normal;font-family:Menlo,'DejaVu Sans Mono',consolas,'Courier New',monospace\">Extracting... <span style=\"color: #729c1f; text-decoration-color: #729c1f\">━━━━━━━━━━━━━━━━━━━━━━━━━━━━━━━━━━━━━━━━</span> <span style=\"color: #800080; text-decoration-color: #800080\">100%</span> <span style=\"color: #008080; text-decoration-color: #008080\">0:00:00</span>\n</pre>\n",
         "text/plain": "Extracting... \u001b[38;2;114;156;31m━━━━━━━━━━━━━━━━━━━━━━━━━━━━━━━━━━━━━━━━\u001b[0m \u001b[35m100%\u001b[0m \u001b[36m0:00:00\u001b[0m\n"
        },
        "metadata": {},
        "output_type": "display_data"
       }
      ]
     }
    },
    "d12d77623064461d8e6ea1923d7c7ff4": {
     "model_module": "@jupyter-widgets/output",
     "model_module_version": "1.0.0",
     "model_name": "OutputModel",
     "state": {
      "_dom_classes": [],
      "_model_module": "@jupyter-widgets/output",
      "_model_module_version": "1.0.0",
      "_model_name": "OutputModel",
      "_view_count": null,
      "_view_module": "@jupyter-widgets/output",
      "_view_module_version": "1.0.0",
      "_view_name": "OutputView",
      "layout": "IPY_MODEL_00dcdbc282f94e5499d1b8328aa6f2e4",
      "msg_id": "",
      "outputs": [
       {
        "data": {
         "text/html": "<pre style=\"white-space:pre;overflow-x:auto;line-height:normal;font-family:Menlo,'DejaVu Sans Mono',consolas,'Courier New',monospace\">Verifying tfrecords... <span style=\"color: #729c1f; text-decoration-color: #729c1f\">━━━━━━━━━━━━━━━━━━━━━━━━━━━━━━━━━━━━━━━━</span> <span style=\"color: #800080; text-decoration-color: #800080\">100%</span> <span style=\"color: #008080; text-decoration-color: #008080\">0:00:00</span>\n</pre>\n",
         "text/plain": "Verifying tfrecords... \u001b[38;2;114;156;31m━━━━━━━━━━━━━━━━━━━━━━━━━━━━━━━━━━━━━━━━\u001b[0m \u001b[35m100%\u001b[0m \u001b[36m0:00:00\u001b[0m\n"
        },
        "metadata": {},
        "output_type": "display_data"
       }
      ]
     }
    },
    "d1bdcf258d314a0c88d067b270597397": {
     "model_module": "@jupyter-widgets/base",
     "model_module_version": "1.2.0",
     "model_name": "LayoutModel",
     "state": {
      "_model_module": "@jupyter-widgets/base",
      "_model_module_version": "1.2.0",
      "_model_name": "LayoutModel",
      "_view_count": null,
      "_view_module": "@jupyter-widgets/base",
      "_view_module_version": "1.2.0",
      "_view_name": "LayoutView",
      "align_content": null,
      "align_items": null,
      "align_self": null,
      "border": null,
      "bottom": null,
      "display": null,
      "flex": null,
      "flex_flow": null,
      "grid_area": null,
      "grid_auto_columns": null,
      "grid_auto_flow": null,
      "grid_auto_rows": null,
      "grid_column": null,
      "grid_gap": null,
      "grid_row": null,
      "grid_template_areas": null,
      "grid_template_columns": null,
      "grid_template_rows": null,
      "height": null,
      "justify_content": null,
      "justify_items": null,
      "left": null,
      "margin": null,
      "max_height": null,
      "max_width": null,
      "min_height": null,
      "min_width": null,
      "object_fit": null,
      "object_position": null,
      "order": null,
      "overflow": null,
      "overflow_x": null,
      "overflow_y": null,
      "padding": null,
      "right": null,
      "top": null,
      "visibility": null,
      "width": null
     }
    },
    "d354bbbf64104bc99007d2e3ba5493fb": {
     "model_module": "@jupyter-widgets/output",
     "model_module_version": "1.0.0",
     "model_name": "OutputModel",
     "state": {
      "_dom_classes": [],
      "_model_module": "@jupyter-widgets/output",
      "_model_module_version": "1.0.0",
      "_model_name": "OutputModel",
      "_view_count": null,
      "_view_module": "@jupyter-widgets/output",
      "_view_module_version": "1.0.0",
      "_view_name": "OutputView",
      "layout": "IPY_MODEL_3481841c98294e2e8c5bc04522568d5f",
      "msg_id": "",
      "outputs": [
       {
        "data": {
         "text/html": "<pre style=\"white-space:pre;overflow-x:auto;line-height:normal;font-family:Menlo,'DejaVu Sans Mono',consolas,'Courier New',monospace\"><span style=\"color: #000080; text-decoration-color: #000080; font-weight: bold\">train</span> loss: 0.0906 acc: 0.9646 <span style=\"color: #729c1f; text-decoration-color: #729c1f\">━━━━━━━━━━━━━━━━━━━━━━━━━━━━━━━━━━━━━━━━</span> <span style=\"color: #800080; text-decoration-color: #800080\">100%</span> <span style=\"color: #008080; text-decoration-color: #008080\">0:00:00</span> <span style=\"color: #808000; text-decoration-color: #808000\">0:06:32</span> <span style=\"color: #800000; text-decoration-color: #800000\">83 img/s</span>\n</pre>\n",
         "text/plain": "\u001b[1;34mtrain\u001b[0m loss: 0.0906 acc: 0.9646 \u001b[38;2;114;156;31m━━━━━━━━━━━━━━━━━━━━━━━━━━━━━━━━━━━━━━━━\u001b[0m \u001b[35m100%\u001b[0m \u001b[36m0:00:00\u001b[0m \u001b[33m0:06:32\u001b[0m \u001b[31m83 img/s\u001b[0m\n"
        },
        "metadata": {},
        "output_type": "display_data"
       }
      ]
     }
    },
    "d60f7119b0f24aeea1c67d7d6e913c18": {
     "model_module": "@jupyter-widgets/output",
     "model_module_version": "1.0.0",
     "model_name": "OutputModel",
     "state": {
      "_dom_classes": [],
      "_model_module": "@jupyter-widgets/output",
      "_model_module_version": "1.0.0",
      "_model_name": "OutputModel",
      "_view_count": null,
      "_view_module": "@jupyter-widgets/output",
      "_view_module_version": "1.0.0",
      "_view_name": "OutputView",
      "layout": "IPY_MODEL_5be3961ea8ba495bb0fe14692d96b642",
      "msg_id": "",
      "outputs": [
       {
        "data": {
         "text/html": "<pre style=\"white-space:pre;overflow-x:auto;line-height:normal;font-family:Menlo,'DejaVu Sans Mono',consolas,'Courier New',monospace\">Speed:  <span style=\"color: #800000; text-decoration-color: #800000\">198 img/s</span>\nGenerating... <span style=\"color: #729c1f; text-decoration-color: #729c1f\">━━━━━━━━━━━━━━━━━━━━━━━━━━━━━━━━━━━━━━━━</span> <span style=\"color: #800080; text-decoration-color: #800080\">100%</span> <span style=\"color: #008000; text-decoration-color: #008000\">20/20</span> ● <span style=\"color: #008080; text-decoration-color: #008080\">0:00:00</span>\n</pre>\n",
         "text/plain": "Speed:  \u001b[31m198 img/s\u001b[0m\nGenerating... \u001b[38;2;114;156;31m━━━━━━━━━━━━━━━━━━━━━━━━━━━━━━━━━━━━━━━━\u001b[0m \u001b[35m100%\u001b[0m \u001b[32m20/20\u001b[0m ● \u001b[36m0:00:00\u001b[0m\n"
        },
        "metadata": {},
        "output_type": "display_data"
       }
      ]
     }
    },
    "d630828ca94f4858ad82a14026726749": {
     "model_module": "@jupyter-widgets/base",
     "model_module_version": "1.2.0",
     "model_name": "LayoutModel",
     "state": {
      "_model_module": "@jupyter-widgets/base",
      "_model_module_version": "1.2.0",
      "_model_name": "LayoutModel",
      "_view_count": null,
      "_view_module": "@jupyter-widgets/base",
      "_view_module_version": "1.2.0",
      "_view_name": "LayoutView",
      "align_content": null,
      "align_items": null,
      "align_self": null,
      "border": null,
      "bottom": null,
      "display": null,
      "flex": null,
      "flex_flow": null,
      "grid_area": null,
      "grid_auto_columns": null,
      "grid_auto_flow": null,
      "grid_auto_rows": null,
      "grid_column": null,
      "grid_gap": null,
      "grid_row": null,
      "grid_template_areas": null,
      "grid_template_columns": null,
      "grid_template_rows": null,
      "height": null,
      "justify_content": null,
      "justify_items": null,
      "left": null,
      "margin": null,
      "max_height": null,
      "max_width": null,
      "min_height": null,
      "min_width": null,
      "object_fit": null,
      "object_position": null,
      "order": null,
      "overflow": null,
      "overflow_x": null,
      "overflow_y": null,
      "padding": null,
      "right": null,
      "top": null,
      "visibility": null,
      "width": null
     }
    },
    "d9dc6a79fc7047448bc5a9064f36f7ca": {
     "model_module": "@jupyter-widgets/controls",
     "model_module_version": "1.5.0",
     "model_name": "ProgressStyleModel",
     "state": {
      "_model_module": "@jupyter-widgets/controls",
      "_model_module_version": "1.5.0",
      "_model_name": "ProgressStyleModel",
      "_view_count": null,
      "_view_module": "@jupyter-widgets/base",
      "_view_module_version": "1.2.0",
      "_view_name": "StyleView",
      "bar_color": null,
      "description_width": ""
     }
    },
    "de97abd4e8cf437ab4fa6132b0c83cd8": {
     "model_module": "@jupyter-widgets/base",
     "model_module_version": "1.2.0",
     "model_name": "LayoutModel",
     "state": {
      "_model_module": "@jupyter-widgets/base",
      "_model_module_version": "1.2.0",
      "_model_name": "LayoutModel",
      "_view_count": null,
      "_view_module": "@jupyter-widgets/base",
      "_view_module_version": "1.2.0",
      "_view_name": "LayoutView",
      "align_content": null,
      "align_items": null,
      "align_self": null,
      "border": null,
      "bottom": null,
      "display": null,
      "flex": null,
      "flex_flow": null,
      "grid_area": null,
      "grid_auto_columns": null,
      "grid_auto_flow": null,
      "grid_auto_rows": null,
      "grid_column": null,
      "grid_gap": null,
      "grid_row": null,
      "grid_template_areas": null,
      "grid_template_columns": null,
      "grid_template_rows": null,
      "height": null,
      "justify_content": null,
      "justify_items": null,
      "left": null,
      "margin": null,
      "max_height": null,
      "max_width": null,
      "min_height": null,
      "min_width": null,
      "object_fit": null,
      "object_position": null,
      "order": null,
      "overflow": null,
      "overflow_x": null,
      "overflow_y": null,
      "padding": null,
      "right": null,
      "top": null,
      "visibility": null,
      "width": null
     }
    },
    "e0acdd90628b4200b00509d3e5394e90": {
     "model_module": "@jupyter-widgets/controls",
     "model_module_version": "1.5.0",
     "model_name": "HTMLModel",
     "state": {
      "_dom_classes": [],
      "_model_module": "@jupyter-widgets/controls",
      "_model_module_version": "1.5.0",
      "_model_name": "HTMLModel",
      "_view_count": null,
      "_view_module": "@jupyter-widgets/controls",
      "_view_module_version": "1.5.0",
      "_view_name": "HTMLView",
      "description": "",
      "description_tooltip": null,
      "layout": "IPY_MODEL_8edc29dcadc8422685101fa29e224a70",
      "placeholder": "​",
      "style": "IPY_MODEL_7ba2bb481165447996d946dace078ad9",
      "value": "ctranspath.pth: 100%"
     }
    },
    "e40ffe32bf79446b837d82c63dab189e": {
     "model_module": "@jupyter-widgets/controls",
     "model_module_version": "1.5.0",
     "model_name": "HBoxModel",
     "state": {
      "_dom_classes": [],
      "_model_module": "@jupyter-widgets/controls",
      "_model_module_version": "1.5.0",
      "_model_name": "HBoxModel",
      "_view_count": null,
      "_view_module": "@jupyter-widgets/controls",
      "_view_module_version": "1.5.0",
      "_view_name": "HBoxView",
      "box_style": "",
      "children": [
       "IPY_MODEL_3e9f9b72b70948d39b2c52695834945f",
       "IPY_MODEL_033c001395534cb888a86945547ef3e2",
       "IPY_MODEL_3d343bea738246cfb849444d5b3a6644"
      ],
      "layout": "IPY_MODEL_26bf7ef97ecb4f348c6cff04ea3f65f1"
     }
    },
    "f3879c9f429242a0be1012742114cf49": {
     "model_module": "@jupyter-widgets/base",
     "model_module_version": "1.2.0",
     "model_name": "LayoutModel",
     "state": {
      "_model_module": "@jupyter-widgets/base",
      "_model_module_version": "1.2.0",
      "_model_name": "LayoutModel",
      "_view_count": null,
      "_view_module": "@jupyter-widgets/base",
      "_view_module_version": "1.2.0",
      "_view_name": "LayoutView",
      "align_content": null,
      "align_items": null,
      "align_self": null,
      "border": null,
      "bottom": null,
      "display": null,
      "flex": null,
      "flex_flow": null,
      "grid_area": null,
      "grid_auto_columns": null,
      "grid_auto_flow": null,
      "grid_auto_rows": null,
      "grid_column": null,
      "grid_gap": null,
      "grid_row": null,
      "grid_template_areas": null,
      "grid_template_columns": null,
      "grid_template_rows": null,
      "height": null,
      "justify_content": null,
      "justify_items": null,
      "left": null,
      "margin": null,
      "max_height": null,
      "max_width": null,
      "min_height": null,
      "min_width": null,
      "object_fit": null,
      "object_position": null,
      "order": null,
      "overflow": null,
      "overflow_x": null,
      "overflow_y": null,
      "padding": null,
      "right": null,
      "top": null,
      "visibility": null,
      "width": null
     }
    }
   }
  }
 },
 "nbformat": 4,
 "nbformat_minor": 4
}
